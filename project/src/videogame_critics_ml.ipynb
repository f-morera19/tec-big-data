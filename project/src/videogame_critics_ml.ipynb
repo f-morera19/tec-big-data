{
 "metadata": {
  "language_info": {
   "codemirror_mode": {
    "name": "ipython",
    "version": 3
   },
   "file_extension": ".py",
   "mimetype": "text/x-python",
   "name": "python",
   "nbconvert_exporter": "python",
   "pygments_lexer": "ipython3",
   "version": 3
  },
  "orig_nbformat": 2
 },
 "nbformat": 4,
 "nbformat_minor": 2,
 "cells": [
  {
   "source": [
    "# Proyecto\n",
    "\n",
    "Autor: Fabian Morera Gutierrez\n",
    "\n",
    "Profesor: Dr. Juan Manuel Esquivel Rodriguez\n",
    "\n",
    "Curso: Big Data"
   ],
   "cell_type": "markdown",
   "metadata": {}
  },
  {
   "source": [
    "# Entrenamiento de dos modelos de clasificación binaria para una variable de crítica especializada para un set de VideoJuegos.\n",
    "\n",
    "El presente programa tiene como finalidad la creación de dos modelos de clasificaciónbinaria, de principio a fin, utilizando el framework Apache Spark. Para tal fin, se utilizará un set de datos con información de ventas y crítica de videojuegos a nivel mundial.\n",
    "\n",
    "Se asume que dicho conjunto de datos fue previamente depurado, limpiado y preparado para su futura utilización como set de entrenamiento y testeo de un modelo."
   ],
   "cell_type": "markdown",
   "metadata": {}
  },
  {
   "source": [
    "## Dependencias\n",
    "Importamos dependencias requeridas a lo largo del programa aquí."
   ],
   "cell_type": "markdown",
   "metadata": {}
  },
  {
   "cell_type": "code",
   "execution_count": null,
   "metadata": {},
   "outputs": [],
   "source": [
    "# Numpy y Matplotlib.\n",
    "import numpy as np\n",
    "import matplotlib.mlab as mlab\n",
    "import matplotlib.pyplot as plt\n",
    "\n",
    "# Others.\n",
    "import findspark\n",
    "import tempfile\n",
    "import random\n",
    "\n",
    "# Pyspark main.\n",
    "from pyspark.sql.types import *\n",
    "from pyspark.sql import SparkSession\n",
    "from pyspark.sql import functions as F\n",
    "\n",
    "# Pyspark machine learning.\n",
    "from pyspark.ml.classification import LogisticRegression\n",
    "from pyspark.mllib.regression import LabeledPoint\n",
    "from pyspark.ml.evaluation import BinaryClassificationEvaluator\n",
    "from pyspark.ml.linalg import Vectors\n",
    "from pyspark.ml.tuning import CrossValidatorModel, CrossValidator, ParamGridBuilder\n",
    "from pyspark.ml.stat import Correlation\n",
    "from pyspark.ml.feature import VectorAssembler, HashingTF, Tokenizer, StandardScaler\n",
    "from pyspark.ml import Pipeline\n",
    "\n",
    "from pyspark.mllib.tree import DecisionTree, DecisionTreeModel\n",
    "from pyspark.mllib.util import MLUtils\n",
    "\n",
    "# Seaborn.\n",
    "import seaborn as sns\n",
    "\n",
    "print(\"Dependencies loaded.\")"
   ]
  },
  {
   "source": [
    "# Inspección de datos\n",
    "Previo a entrenar el modelo es común que se realice algún tipo de descripción de los datos, para tener una idea del tipo de problema con el que nos enfrentamos. A continuación, algunas observaciones interesantes."
   ],
   "cell_type": "markdown",
   "metadata": {}
  },
  {
   "cell_type": "code",
   "execution_count": null,
   "metadata": {},
   "outputs": [],
   "source": [
    "findspark.init('/usr/lib/python3.7/site-packages/pyspark')\n",
    "\n",
    "# Cargar el conjunto de datos completo. Este paso no realiza ningún ajuste; simplemente lectura\n",
    "spark = SparkSession \\\n",
    "    .builder \\\n",
    "    .appName(\"Basic JDBC pipeline\") \\\n",
    "    .config(\"spark.driver.extraClassPath\", \"postgresql-42.2.14.jar\") \\\n",
    "    .config(\"spark.executor.extraClassPath\", \"postgresql-42.2.14.jar\") \\\n",
    "    .getOrCreate()\n",
    "\n",
    "# Cargar el conjunto de datos desde la base de datos (Tabla vg_critic_sales).\n",
    "videogames_df = spark \\\n",
    "    .read \\\n",
    "    .format(\"jdbc\") \\\n",
    "    .option(\"url\", \"jdbc:postgresql://host.docker.internal:5433/postgres\") \\\n",
    "    .option(\"user\", \"postgres\") \\\n",
    "    .option(\"password\", \"testPassword\") \\\n",
    "    .option(\"dbtable\", \"vg_critic_sales\") \\\n",
    "    .load()\n",
    "\n",
    "print(\"Data loaded!\")\n",
    "videogames_df.show()"
   ]
  },
  {
   "source": [
    "## Información Descriptiva de los Datos.\n",
    "Se muestran histogramas y resúmenes descriptivos de algunas de las variables disponibles."
   ],
   "cell_type": "markdown",
   "metadata": {}
  },
  {
   "cell_type": "code",
   "execution_count": null,
   "metadata": {},
   "outputs": [],
   "source": [
    "# Información descriptiva de alguno valores relevantes del dataframe.\n",
    "videogames_df.describe([\n",
    "    'metascore', \n",
    "    'metacritic_userscore', \n",
    "    'total_shipped']).show()"
   ]
  }
 ]
}